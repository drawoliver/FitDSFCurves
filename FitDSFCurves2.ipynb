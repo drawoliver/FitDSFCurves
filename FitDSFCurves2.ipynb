{
  "nbformat": 4,
  "nbformat_minor": 0,
  "metadata": {
    "colab": {
      "provenance": [],
      "authorship_tag": "ABX9TyOrWqpiFEMXgZgublWHlYwu",
      "include_colab_link": true
    },
    "kernelspec": {
      "name": "python3",
      "display_name": "Python 3"
    },
    "language_info": {
      "name": "python"
    }
  },
  "cells": [
    {
      "cell_type": "markdown",
      "metadata": {
        "id": "view-in-github",
        "colab_type": "text"
      },
      "source": [
        "<a href=\"https://colab.research.google.com/github/drawoliver/FitDSFCurves/blob/main/FitDSFCurves2.ipynb\" target=\"_parent\"><img src=\"https://colab.research.google.com/assets/colab-badge.svg\" alt=\"Open In Colab\"/></a>"
      ]
    },
    {
      "cell_type": "markdown",
      "source": [
        "# **FitDSFCurves2**\n",
        "\n",
        "\n",
        "\n",
        "\n",
        "\n"
      ],
      "metadata": {
        "id": "3betMvoMEhRI"
      }
    },
    {
      "cell_type": "markdown",
      "source": [
        "**A python jiffy to fit DSF data with a modified Boltzmann equation to determine a value for Tm and slope.**\n",
        "\n",
        "Antony W. Oliver, University of Sussex (2023)"
      ],
      "metadata": {
        "id": "s5eMfW1K-9cc"
      }
    },
    {
      "cell_type": "markdown",
      "source": [
        "For 'simple' use, please choose the '**Run all**' option, from the 'Runtime' drop-down menu.\n",
        "\n",
        "---"
      ],
      "metadata": {
        "id": "Sx13-cirFVyg"
      }
    },
    {
      "cell_type": "code",
      "source": [
        "#@title Initialisation\n",
        "\n",
        "# Run once initialisation (lmfit, seaborn)\n",
        "%pip install lmfit\n",
        "%pip install seaborn"
      ],
      "metadata": {
        "id": "duNDF5ibDOHc",
        "cellView": "form"
      },
      "execution_count": null,
      "outputs": []
    },
    {
      "cell_type": "markdown",
      "source": [
        "\n",
        "The first column of the supplied .csv file should contain temperature data.\n",
        "\n",
        "The remaining columns should contain data from your DSF experiment.\n",
        "\n",
        "[i.e. one column per individual experimental repeat]."
      ],
      "metadata": {
        "id": "5FjlWCGDEzaR"
      }
    },
    {
      "cell_type": "code",
      "source": [
        "#@title Upload .csv file\n",
        "\n",
        "# Setup requirements\n",
        "import io\n",
        "import math\n",
        "import pandas as pd\n",
        "import numpy as np\n",
        "import sympy\n",
        "import matplotlib.pyplot as plt\n",
        "import seaborn as sns\n",
        "import lmfit\n",
        "from scipy.optimize import curve_fit\n",
        "from google.colab import files\n",
        "from google.colab import output\n",
        "\n",
        "def spacer ():\n",
        "  print (\"\")\n",
        "  print (\"— — — — —\")\n",
        "  print (\"\")\n",
        "  return\n",
        "\n",
        "# Upload .csv file and eliminate NaN and column headers\n",
        "uploaded = files.upload()\n",
        "\n",
        "# Upload .csv file, drop headers and remove NaN values\n",
        "filename = next(iter(uploaded))\n",
        "raw_data = pd.read_csv(filename, header=None, skiprows=1)\n",
        "raw_data = raw_data.dropna(axis='rows')\n"
      ],
      "metadata": {
        "id": "5FQjDd03MSHr",
        "cellView": "form"
      },
      "execution_count": null,
      "outputs": []
    },
    {
      "cell_type": "code",
      "source": [
        "#@title Options\n",
        "print ()\n",
        "normalise = float(input (\"Enter 0 if data the already normalised (or to do nothing) or 1 to normalise the data: \"))\n",
        "print ()\n",
        "fix_range = float(input (\"Do you wish to fix the denatured intercept (No = 0, Yes = 1): \"))\n",
        "\n",
        "if fix_range == 1:\n",
        "  bounds_lower = (-np.inf,-np.inf,-np.inf,0.98,20,-np.inf)\n",
        "  bounds_upper = (np.inf,np.inf,np.inf,1.01,120,np.inf)\n",
        "  print ()\n",
        "  print (\"denatured intercept has been fixed to a value of 1\")\n",
        "\n",
        "else:\n",
        "  bounds_lower = (-np.inf,-np.inf,-np.inf,-np.inf,20,-np.inf)\n",
        "  bounds_upper = (np.inf,np.inf,np.inf,np.inf,120,np.inf)"
      ],
      "metadata": {
        "cellView": "form",
        "id": "fqikTEt9JfQH"
      },
      "execution_count": null,
      "outputs": []
    },
    {
      "cell_type": "code",
      "source": [
        "#@title Fit and Plot Data\n",
        "\n",
        "print ()\n",
        "lower_range = float(input (\"Please enter lowest temperature for fitting, enter 0 to use full input range \"))\n",
        "\n",
        "print ()\n",
        "upper_range = float(input (\"Please enter highest temperature for fitting, enter 0 to use full input range: \"))\n",
        "\n",
        "print ()\n",
        "# find number of columns\n",
        "num_columns = len(raw_data.columns)\n",
        "\n",
        "if lower_range == 0:\n",
        "  data_lower = raw_data\n",
        "else:\n",
        "  data_lower = raw_data[raw_data[0] >= lower_range]\n",
        "\n",
        "if upper_range == 0:\n",
        "  data_upper = data_lower\n",
        "else:\n",
        "  data_upper = data_lower[data_lower[0] <= upper_range]\n",
        "\n",
        "data = data_upper\n",
        "\n",
        "print (\"... fitting data and generating plots\")\n",
        "print ()\n",
        "\n",
        "# Create x and y-data variables from uploaded .csv file (y_data1 for column 1, y_data2 for column2 etc)\n",
        "\n",
        "x_data = data.iloc[:,0]\n",
        "\n",
        "pd.options.mode.chained_assignment = None\n",
        "\n",
        "for i in range(1, num_columns):\n",
        "      min_val = data.iloc[:,i].min()\n",
        "      max_val = data.iloc[:,i].max()\n",
        "      if normalise == 1:\n",
        "        data.iloc[:,i]= (data.iloc[:,i] - min_val) / (max_val - min_val)\n",
        "        globals()[f\"y_data{i}\"] = data.iloc[:,i]\n",
        "      else:\n",
        "        globals()[f\"y_data{i}\"] = data.iloc[:,i]\n",
        "\n",
        "# Equation for fitting data\n",
        "def user_defined_equation_1(x, slope_native, intercept_native, slope_denatured, intercept_denatured, melting_temp, slope_midpoint):\n",
        "  return ((slope_native * x + intercept_native) + (((slope_denatured * x + intercept_denatured)-(slope_native * x + intercept_native)/(1 + (np.exp((melting_temp - x) / slope_midpoint))))))\n",
        "\n",
        "# Number of iterations\n",
        "max_iterations = 2000\n",
        "\n",
        "# Set initial guess\n",
        "initial_guess = [0,0,0,1,35,2]\n",
        "\n",
        "# Perform iterative fitting with Levenberg-Marquardt\n",
        "\n",
        "for i in range (1, num_columns):\n",
        "\n",
        "  input_y_data = globals()[f\"y_data{i}\"]\n",
        "\n",
        "  for iteration in range(max_iterations):\n",
        "\n",
        "    # Use curve_fit with the current initial guess and 'lm' method\n",
        "    fit_params, covariance = curve_fit(user_defined_equation_1, x_data, input_y_data, p0=initial_guess, method='trf', bounds=(bounds_lower, bounds_upper))\n",
        "    # Generate fitted y values using the fitted parameters\n",
        "    y_fit = user_defined_equation_1(x_data, *fit_params)\n",
        "\n",
        "    # Check for convergence (you can customize this condition based on your needs)\n",
        "    if np.all(np.abs(np.array(initial_guess) - np.array(fit_params)) < 1e-6):\n",
        "        print(f'Data in column {i} converged after {iteration + 1} iterations.')\n",
        "        break\n",
        "\n",
        "    # Update initial guess for the next iteration\n",
        "    initial_guess = fit_params\n",
        "\n",
        "  globals()[f\"Tm_column{i}\"] = fit_params[4]\n",
        "  globals()[f\"Slope_column{i}\"] = fit_params[5]\n",
        "\n",
        "  # Initialize plot\n",
        "  sns.set_theme()\n",
        "  fig, ax = plt.subplots()\n",
        "  # Plot data\n",
        "  ax.scatter(x_data, input_y_data, label='Data', color='black')\n",
        "  plt.xlabel('Temperature ˚C')\n",
        "\n",
        "  if normalise == 1:\n",
        "    plt.ylabel('Fraction unfolded')\n",
        "  else:\n",
        "    plt.ylabel('Fluorescence (arbitary units)')\n",
        "  ax.plot(x_data, y_fit, color='red')\n",
        "  plt.show()\n",
        "\n",
        "  # Print the final values for each parameter\n",
        "  print(\"Fitted Values:\")\n",
        "  print ()\n",
        "  print(\"Tm:\",fit_params[4])\n",
        "  print(\"Slope:\",fit_params[5])\n",
        "\n",
        "# Create Summary\n",
        "\n",
        "spacer()\n",
        "print (\"Data Summary\")\n",
        "print ()\n",
        "\n",
        "sum_tm = 0\n",
        "tm_value = pd.Series((), dtype='float')\n",
        "\n",
        "for i in range (1, num_columns):\n",
        "  result_float = round(float(globals()[f\"Tm_column{i}\"]),2)\n",
        "  print(\"Tm for column\",i,\":\", result_float)\n",
        "  sum_tm = sum_tm + result_float\n",
        "  tm_value.loc[i] = result_float\n",
        "\n",
        "mean = round(float((np.average(tm_value))),2)\n",
        "standard = round(float((np.std(tm_value))),4)\n",
        "print ()\n",
        "print (\"Average Tm:\", mean)\n",
        "print (\"1 Standard Deviation: \", standard)\n",
        "\n",
        "sum_slope = 0\n",
        "slope_value = pd.Series((), dtype='float')\n",
        "\n",
        "spacer()\n",
        "\n",
        "for i in range (1, num_columns):\n",
        "  result_float = round(float(globals()[f\"Slope_column{i}\"]),2)\n",
        "  print(\"Slope for column\",i,\":\", result_float)\n",
        "  sum_slope = sum_slope + result_float\n",
        "  slope_value.loc[i] = result_float\n",
        "\n",
        "mean = round(float((np.average(slope_value))),2)\n",
        "standard = round(float((np.std(slope_value))),4)\n",
        "print ()\n",
        "print (\"Average Slope:\", mean)\n",
        "print (\"1 Standard Deviation: \", standard)\n",
        "\n",
        "print()\n",
        "\n",
        "\n"
      ],
      "metadata": {
        "id": "7R3c25BOkN38",
        "cellView": "form"
      },
      "execution_count": null,
      "outputs": []
    }
  ]
}