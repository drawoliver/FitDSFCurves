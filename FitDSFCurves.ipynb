{
  "nbformat": 4,
  "nbformat_minor": 0,
  "metadata": {
    "colab": {
      "provenance": [],
      "authorship_tag": "ABX9TyPTkm3wvLAVZ5iJH9YsMi42",
      "include_colab_link": true
    },
    "kernelspec": {
      "name": "python3",
      "display_name": "Python 3"
    },
    "language_info": {
      "name": "python"
    }
  },
  "cells": [
    {
      "cell_type": "markdown",
      "metadata": {
        "id": "view-in-github",
        "colab_type": "text"
      },
      "source": [
        "<a href=\"https://colab.research.google.com/github/drawoliver/FitDSFCurves/blob/main/FitDSFCurves.ipynb\" target=\"_parent\"><img src=\"https://colab.research.google.com/assets/colab-badge.svg\" alt=\"Open In Colab\"/></a>"
      ]
    },
    {
      "cell_type": "markdown",
      "source": [
        "# **FitDSFCurves**\n",
        "\n",
        "\n",
        "\n",
        "\n",
        "\n"
      ],
      "metadata": {
        "id": "3betMvoMEhRI"
      }
    },
    {
      "cell_type": "markdown",
      "source": [
        "**A python jiffy to fit DSF data with a modified Boltzmann equation to determine a value for Tm and slope.**"
      ],
      "metadata": {
        "id": "s5eMfW1K-9cc"
      }
    },
    {
      "cell_type": "markdown",
      "source": [
        "For 'simple' use, please choose 'Run all' option, from the Runtime drop down menu"
      ],
      "metadata": {
        "id": "Sx13-cirFVyg"
      }
    },
    {
      "cell_type": "markdown",
      "source": [
        "— — — — — — — — — —\n",
        "\n",
        "Run the first cell to install lmfit and seaborn packages.\n",
        "\n",
        "Note: you only need to do this once to 'intialise' the program."
      ],
      "metadata": {
        "id": "MAFv2GHs-8iX"
      }
    },
    {
      "cell_type": "code",
      "source": [
        "#@title Initialisation\n",
        "\n",
        "# Run once initialisation (lmfit, seaborn)\n",
        "%pip install lmfit\n",
        "%pip install seaborn"
      ],
      "metadata": {
        "id": "duNDF5ibDOHc",
        "cellView": "form"
      },
      "execution_count": null,
      "outputs": []
    },
    {
      "cell_type": "markdown",
      "source": [
        "The next cell imports various packages needed to run the program, loads dependences and then asks the user to upload a .csv file.\n",
        "\n",
        "NOTE: the first column should contain the temperature data. The remaining columns should contain the melting data [one column per individual experimental repeat]."
      ],
      "metadata": {
        "id": "5FjlWCGDEzaR"
      }
    },
    {
      "cell_type": "code",
      "source": [
        "#@title Dependencies, Upload .csv and Drop Headers\n",
        "\n",
        "# Setup requirements\n",
        "import io\n",
        "import math\n",
        "import pandas as pd\n",
        "import numpy as np\n",
        "import sympy\n",
        "import matplotlib.pyplot as plt\n",
        "import seaborn as sns\n",
        "import lmfit\n",
        "from scipy.optimize import curve_fit\n",
        "from google.colab import files\n",
        "from google.colab import output\n",
        "\n",
        "# Upload .csv file and eliminate NaN and column headers\n",
        "uploaded = files.upload()\n",
        "\n",
        "# Upload .csv file, drop headers and remove NaN values\n",
        "filename = next(iter(uploaded))\n",
        "raw_data = pd.read_csv(filename, header=None, skiprows=1)\n",
        "raw_data = rawdata.dropna(axis='rows')\n"
      ],
      "metadata": {
        "id": "5FQjDd03MSHr",
        "cellView": "form"
      },
      "execution_count": 2,
      "outputs": []
    },
    {
      "cell_type": "markdown",
      "source": [
        "The next cell does the curve fitting for each individual dataset and plots a graph.\n"
      ],
      "metadata": {
        "id": "q9x3TBd9FYqm"
      }
    },
    {
      "cell_type": "code",
      "source": [
        "#@title Fit and Plot Data\n",
        "\n",
        "def spacer ():\n",
        "  print (\"\")\n",
        "  print (\"— — — — —\")\n",
        "  print (\"\")\n",
        "  return\n",
        "\n",
        "spacer()\n",
        "\n",
        "# choose lower and upper ranges for fit\n",
        "lower_range = float(input (\"Please enter lowest temperature for fitting, enter 0 to use full input range \"))\n",
        "upper_range = float(input (\"Please enter highest temperature for fitting, enter 0 to use full input range: \"))\n",
        "\n",
        "if lower_range == 0:\n",
        "  data_lower = raw_data\n",
        "else:\n",
        "  data_lower = raw_data[rawdata[0] >= lower_range]\n",
        "\n",
        "if upper_range == 0:\n",
        "  data_upper = data_lower\n",
        "else:\n",
        "  data_upper = data_lower[data_lower[0] <= upper_range]\n",
        "\n",
        "data = data_upper\n",
        "\n",
        "spacer()\n",
        "\n",
        "# Create x and y-data variables from uploaded .csv file (y_data1 for column 1, y_data2 for column2 etc)\n",
        "num_columns = len(data.columns)\n",
        "x_data = data.iloc[:, 0]\n",
        "\n",
        "for i in range(1, num_columns):\n",
        "    globals()[f\"y_data{i}\"] = data.iloc[:, i]\n",
        "\n",
        "\n",
        "# Equation for fitting data\n",
        "def user_defined_equation_1(x, slope_native, intercept_native, slope_denatured, intercept_denatured, melting_temp, slope_midpoint):\n",
        "  return ((slope_native * x + intercept_native) + (((slope_denatured * x + intercept_denatured)-(slope_native * x + intercept_native)/(1 + (np.exp((melting_temp - x) / slope_midpoint))))))\n",
        "\n",
        "# Number of iterations\n",
        "max_iterations = 1000\n",
        "\n",
        "# Set initial guess\n",
        "initial_guess = [0,0,0,1,35,2]\n",
        "\n",
        "# Perform iterative fitting with Levenberg-Marquardt\n",
        "\n",
        "for i in range (1, num_columns):\n",
        "\n",
        "  input_y_data = globals()[f\"y_data{i}\"]\n",
        "\n",
        "  for iteration in range(max_iterations):\n",
        "\n",
        "    # Use curve_fit with the current initial guess and 'lm' method\n",
        "    fit_params, covariance = curve_fit(user_defined_equation_1, x_data, input_y_data, p0=initial_guess, method='trf', bounds=((-np.inf,-np.inf,-np.inf,0.99,20,-np.inf), (np.inf,np.inf,np.inf,1.0,120,np.inf)) )\n",
        "    # Generate fitted y values using the fitted parameters\n",
        "    y_fit = user_defined_equation_1(x_data, *fit_params)\n",
        "\n",
        "    # Check for convergence (you can customize this condition based on your needs)\n",
        "    if np.all(np.abs(np.array(initial_guess) - np.array(fit_params)) < 1e-6):\n",
        "        print(f'Data in column {i} converged after {iteration + 1} iterations.')\n",
        "        break\n",
        "\n",
        "    # Update initial guess for the next iteration\n",
        "    initial_guess = fit_params\n",
        "\n",
        "  globals()[f\"Tm_column{i}\"] = fit_params[4]\n",
        "  globals()[f\"Slope_column{i}\"] = fit_params[5]\n",
        "\n",
        "  # Initialize plot\n",
        "  sns.set_theme()\n",
        "  fig, ax = plt.subplots()\n",
        "  # Plot data\n",
        "  ax.scatter(x_data, input_y_data, label='Data', color='black')\n",
        "  plt.xlabel('Temperature ˚C')\n",
        "  plt.ylabel('Fraction unfolded')\n",
        "  ax.plot(x_data, y_fit, color='red')\n",
        "  plt.show()\n",
        "\n",
        "  # Print the final values for each parameter\n",
        "  print(\"Fitted Values:\")\n",
        "  print(\"Tm:\",fit_params[4])\n",
        "  print(\"Slope:\",fit_params[5])\n",
        "  print (\"\")\n",
        "  #print(\"Native slope:\",fit_params[0])\n",
        "  #print(\"Native intercept:\",fit_params[1])\n",
        "  #print(\"Denatured slope:\",fit_params[2])\n",
        "  #print(\"Denatured intercept\", fit_params[3])\n",
        "\n",
        "\n"
      ],
      "metadata": {
        "id": "7R3c25BOkN38",
        "cellView": "form"
      },
      "execution_count": null,
      "outputs": []
    },
    {
      "cell_type": "markdown",
      "source": [],
      "metadata": {
        "id": "YNfYgI5SoxF7"
      }
    },
    {
      "cell_type": "markdown",
      "source": [
        "The next cell creates a short summary for the fitted data.  It also reports average values (but this is only valid if the input data represent true experimental replicates)."
      ],
      "metadata": {
        "id": "yPsDusKaF2w5"
      }
    },
    {
      "cell_type": "code",
      "source": [
        "#@title Create Summary\n",
        "\n",
        "# Create Summary\n",
        "sum_tm = 0\n",
        "\n",
        "for i in range (1, num_columns):\n",
        "  result_float = round(float(globals()[f\"Tm_column{i}\"]),2)\n",
        "  print(\"Tm for column\",i,\":\", result_float)\n",
        "  sum_tm = sum_tm + result_float\n",
        "\n",
        "average_tm = sum_tm / (num_columns-1)\n",
        "result_average_tm = round(average_tm, 2)\n",
        "print(\"Average Tm:\", result_average_tm)\n",
        "\n",
        "print(\"\")\n",
        "\n",
        "sum_slope = 0\n",
        "\n",
        "for i in range (1, num_columns):\n",
        "  result_float = round(float(globals()[f\"Slope_column{i}\"]),2)\n",
        "  print(\"Slope for column\",i,\":\", result_float)\n",
        "  sum_slope = sum_slope + result_float\n",
        "\n",
        "average_slope = sum_slope / (num_columns-1)\n",
        "result_average_slope = round(average_slope,2)\n",
        "print (\"Average Slope:\", result_average_slope)\n"
      ],
      "metadata": {
        "id": "IIIsx0MJF3C3",
        "cellView": "form"
      },
      "execution_count": null,
      "outputs": []
    }
  ]
}